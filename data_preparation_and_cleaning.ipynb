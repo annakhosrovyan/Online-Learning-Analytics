{
 "cells": [
  {
   "cell_type": "markdown",
   "metadata": {},
   "source": [
    "- Course Title\n",
    "- Course Organization \n",
    "- Course URL \n",
    "- Course Rating \n",
    "- Course Difficulty \n",
    "- Course Certificate Type \n",
    "- Course Duration\n",
    "- Skills\n",
    "- Language\n",
    "- Available Languages \n",
    "- Enroll Information\n",
    "- Assignments Count"
   ]
  },
  {
   "cell_type": "code",
   "execution_count": 4,
   "metadata": {},
   "outputs": [
    {
     "data": {
      "text/html": [
       "<div>\n",
       "<style scoped>\n",
       "    .dataframe tbody tr th:only-of-type {\n",
       "        vertical-align: middle;\n",
       "    }\n",
       "\n",
       "    .dataframe tbody tr th {\n",
       "        vertical-align: top;\n",
       "    }\n",
       "\n",
       "    .dataframe thead th {\n",
       "        text-align: right;\n",
       "    }\n",
       "</style>\n",
       "<table border=\"1\" class=\"dataframe\">\n",
       "  <thead>\n",
       "    <tr style=\"text-align: right;\">\n",
       "      <th></th>\n",
       "      <th>Title</th>\n",
       "      <th>Organization</th>\n",
       "      <th>URL</th>\n",
       "      <th>Rating</th>\n",
       "      <th>Metadata</th>\n",
       "      <th>Skills</th>\n",
       "      <th>Languages Available</th>\n",
       "      <th>Enroll Information</th>\n",
       "      <th>Assignments Count</th>\n",
       "      <th>Taught Language</th>\n",
       "    </tr>\n",
       "  </thead>\n",
       "  <tbody>\n",
       "    <tr>\n",
       "      <th>0</th>\n",
       "      <td>Google Data Analytics</td>\n",
       "      <td>Google</td>\n",
       "      <td>https://www.coursera.org/professional-certific...</td>\n",
       "      <td>4.8</td>\n",
       "      <td>Beginner · Professional Certificate · 3 - 6 Mo...</td>\n",
       "      <td>Skills you'll gain: Data Analysis, R Programmi...</td>\n",
       "      <td>11 languages available</td>\n",
       "      <td>2,468,706 already enrolled</td>\n",
       "      <td>Not available</td>\n",
       "      <td>Taught in English</td>\n",
       "    </tr>\n",
       "    <tr>\n",
       "      <th>1</th>\n",
       "      <td>Google Cybersecurity</td>\n",
       "      <td>Google</td>\n",
       "      <td>https://www.coursera.org/professional-certific...</td>\n",
       "      <td>4.8</td>\n",
       "      <td>Beginner · Professional Certificate · 3 - 6 Mo...</td>\n",
       "      <td>Skills you'll gain: Network Security, Python P...</td>\n",
       "      <td>11 languages available</td>\n",
       "      <td>759,433 already enrolled</td>\n",
       "      <td>Not available</td>\n",
       "      <td>Taught in English</td>\n",
       "    </tr>\n",
       "    <tr>\n",
       "      <th>2</th>\n",
       "      <td>Google Project Management:</td>\n",
       "      <td>Google</td>\n",
       "      <td>https://www.coursera.org/professional-certific...</td>\n",
       "      <td>4.8</td>\n",
       "      <td>Beginner · Professional Certificate · 3 - 6 Mo...</td>\n",
       "      <td>Skills you'll gain: Project Management, Strate...</td>\n",
       "      <td>11 languages available</td>\n",
       "      <td>1,807,675 already enrolled</td>\n",
       "      <td>Not available</td>\n",
       "      <td>Taught in English</td>\n",
       "    </tr>\n",
       "    <tr>\n",
       "      <th>3</th>\n",
       "      <td>Google Digital Marketing &amp; E-commerce</td>\n",
       "      <td>Google</td>\n",
       "      <td>https://www.coursera.org/professional-certific...</td>\n",
       "      <td>4.8</td>\n",
       "      <td>Beginner · Professional Certificate · 3 - 6 Mo...</td>\n",
       "      <td>Skills you'll gain: Digital Marketing, Marketi...</td>\n",
       "      <td>11 languages available</td>\n",
       "      <td>831,347 already enrolled</td>\n",
       "      <td>Not available</td>\n",
       "      <td>Taught in English</td>\n",
       "    </tr>\n",
       "    <tr>\n",
       "      <th>4</th>\n",
       "      <td>Google IT Support</td>\n",
       "      <td>Google</td>\n",
       "      <td>https://www.coursera.org/professional-certific...</td>\n",
       "      <td>4.8</td>\n",
       "      <td>Beginner · Professional Certificate · 3 - 6 Mo...</td>\n",
       "      <td>Skills you'll gain: Computer Networking, Netwo...</td>\n",
       "      <td>11 languages available</td>\n",
       "      <td>1,695,991 already enrolled</td>\n",
       "      <td>Not available</td>\n",
       "      <td>Taught in English</td>\n",
       "    </tr>\n",
       "  </tbody>\n",
       "</table>\n",
       "</div>"
      ],
      "text/plain": [
       "                                   Title Organization  \\\n",
       "0                  Google Data Analytics       Google   \n",
       "1                   Google Cybersecurity       Google   \n",
       "2             Google Project Management:       Google   \n",
       "3  Google Digital Marketing & E-commerce       Google   \n",
       "4                      Google IT Support       Google   \n",
       "\n",
       "                                                 URL  Rating  \\\n",
       "0  https://www.coursera.org/professional-certific...     4.8   \n",
       "1  https://www.coursera.org/professional-certific...     4.8   \n",
       "2  https://www.coursera.org/professional-certific...     4.8   \n",
       "3  https://www.coursera.org/professional-certific...     4.8   \n",
       "4  https://www.coursera.org/professional-certific...     4.8   \n",
       "\n",
       "                                            Metadata  \\\n",
       "0  Beginner · Professional Certificate · 3 - 6 Mo...   \n",
       "1  Beginner · Professional Certificate · 3 - 6 Mo...   \n",
       "2  Beginner · Professional Certificate · 3 - 6 Mo...   \n",
       "3  Beginner · Professional Certificate · 3 - 6 Mo...   \n",
       "4  Beginner · Professional Certificate · 3 - 6 Mo...   \n",
       "\n",
       "                                              Skills     Languages Available  \\\n",
       "0  Skills you'll gain: Data Analysis, R Programmi...  11 languages available   \n",
       "1  Skills you'll gain: Network Security, Python P...  11 languages available   \n",
       "2  Skills you'll gain: Project Management, Strate...  11 languages available   \n",
       "3  Skills you'll gain: Digital Marketing, Marketi...  11 languages available   \n",
       "4  Skills you'll gain: Computer Networking, Netwo...  11 languages available   \n",
       "\n",
       "           Enroll Information Assignments Count    Taught Language  \n",
       "0  2,468,706 already enrolled     Not available  Taught in English  \n",
       "1    759,433 already enrolled     Not available  Taught in English  \n",
       "2  1,807,675 already enrolled     Not available  Taught in English  \n",
       "3    831,347 already enrolled     Not available  Taught in English  \n",
       "4  1,695,991 already enrolled     Not available  Taught in English  "
      ]
     },
     "execution_count": 4,
     "metadata": {},
     "output_type": "execute_result"
    }
   ],
   "source": [
    "import pandas as pd\n",
    "\n",
    "data = pd.read_csv('data.csv')\n",
    "metadata = pd.read_csv('course_metadata.csv')\n",
    "\n",
    "df = data.merge(metadata, on=\"URL\", how=\"left\")\n",
    "df.head()"
   ]
  },
  {
   "cell_type": "code",
   "execution_count": 2,
   "metadata": {},
   "outputs": [
    {
     "name": "stdout",
     "output_type": "stream",
     "text": [
      "Title                    0\n",
      "Organization             0\n",
      "URL                      0\n",
      "Rating                   7\n",
      "Metadata                 0\n",
      "Skills                 127\n",
      "Languages Available      0\n",
      "Enroll Information      32\n",
      "Assignments Count        0\n",
      "Taught Language          0\n",
      "dtype: int64\n"
     ]
    }
   ],
   "source": [
    "print(df.isnull().sum())"
   ]
  },
  {
   "cell_type": "code",
   "execution_count": 5,
   "metadata": {},
   "outputs": [
    {
     "data": {
      "text/plain": [
       "996"
      ]
     },
     "execution_count": 5,
     "metadata": {},
     "output_type": "execute_result"
    }
   ],
   "source": [
    "len(df)"
   ]
  },
  {
   "cell_type": "markdown",
   "metadata": {},
   "source": [
    "### Metadata"
   ]
  },
  {
   "cell_type": "code",
   "execution_count": 3,
   "metadata": {},
   "outputs": [],
   "source": [
    "# Normalize Metadata: Extracting Duration, Difficulty, and Type\n",
    "df[['Difficulty', 'Type', 'Duration']] = df['Metadata'].str.extract(\n",
    "    r'([\\w\\s]+)\\s·\\s([\\w\\s]+)\\s·\\s([\\w\\s\\-\\d]+)', expand=True\n",
    ")\n",
    "df = df.drop(columns=['Metadata'])"
   ]
  },
  {
   "cell_type": "markdown",
   "metadata": {},
   "source": [
    "### Skills"
   ]
  },
  {
   "cell_type": "code",
   "execution_count": 4,
   "metadata": {},
   "outputs": [],
   "source": [
    "df['Skills'] = df['Skills'].fillna(\"\").astype(str)"
   ]
  },
  {
   "cell_type": "code",
   "execution_count": 5,
   "metadata": {},
   "outputs": [],
   "source": [
    "categories = {\n",
    "    \"Data Science\": [\n",
    "        \"data\", \"neural networks\", \"computer vision\", \"deep learning\", \n",
    "        \"python\", \"data analysis\", \"r programming\", \"machine learning\", \n",
    "        \"big data\", \"ai\", \"statistics\", \"sql\", \"data visualization\", \n",
    "        \"power bi\", \"data engineering\", \"pandas\", \"numpy\", \"databases\",\n",
    "        \"scikit-learn\", \"nlp\", \"natural language processing\",\n",
    "        \"data mining\", \"pytorch\", \"tensorflow\", \"keras\"\n",
    "    ],\n",
    "    \"Engineering and Programming\": [\n",
    "        \"engineering\", \"computer\", \"databases\", \"programming\", \"c++\", \n",
    "        \"web programming\", \"java\", \"software development\", \"hardware\", \n",
    "        \"systems design\", \"algorithms\", \"microservices\", \"cloud\",\n",
    "        \"api development\", \"docker\", \"kubernetes\",  \"azure\",\n",
    "        \"html\", \"css\", \"javascript\", \"react\", \"angular\", \"django\", \"flask\"\n",
    "        \"devops\", \"cloud computing\", \"ci/cd\", \"linux\", \"bash scripting\"\n",
    "    ],\n",
    "\n",
    "    \"Mathematical Theory and Problem Solving\": [\n",
    "        \"mathematics\", \"linear algebra\", \"calculus\", \"theory\", \"probability\", \n",
    "        \"geometry\", \"numerical methods\", \"discrete math\", \"combinatorics\", \n",
    "        \"differential equations\", \"optimization\", \"set theory\", \n",
    "        \"graph theory\", \"game theory\", \"mathematical modeling\", \"logic\",\n",
    "        \"problem solving\", \"critical thinking\"\n",
    "    ],\n",
    "}"
   ]
  },
  {
   "cell_type": "code",
   "execution_count": 6,
   "metadata": {},
   "outputs": [],
   "source": [
    "for category in list(categories.keys()):\n",
    "    column_name = f\"{category} Skills Count\"\n",
    "    df[column_name] = 0  # Initialize with 0"
   ]
  },
  {
   "cell_type": "code",
   "execution_count": 7,
   "metadata": {},
   "outputs": [],
   "source": [
    "for category, keywords in categories.items():\n",
    "    column_name = f\"{category} Skills Count\"\n",
    "    df[column_name] = df['Skills'].apply(\n",
    "        lambda x: sum(1 for keyword in keywords if keyword.lower() in x.lower())\n",
    "    )"
   ]
  },
  {
   "cell_type": "code",
   "execution_count": 8,
   "metadata": {},
   "outputs": [
    {
     "data": {
      "text/plain": [
       "0      25\n",
       "1      13\n",
       "2      24\n",
       "3      19\n",
       "4      19\n",
       "       ..\n",
       "991     1\n",
       "992    28\n",
       "993    25\n",
       "994    17\n",
       "995     1\n",
       "Name: Skills Count, Length: 996, dtype: int64"
      ]
     },
     "execution_count": 8,
     "metadata": {},
     "output_type": "execute_result"
    }
   ],
   "source": [
    "df['Skills Count'] = df['Skills'].str.split(\", \").apply(len)\n",
    "df['Skills Count']"
   ]
  },
  {
   "cell_type": "code",
   "execution_count": 9,
   "metadata": {},
   "outputs": [],
   "source": [
    "df = df.drop(columns=['Skills'])"
   ]
  },
  {
   "cell_type": "markdown",
   "metadata": {},
   "source": [
    "### Taught Language & Languages Available"
   ]
  },
  {
   "cell_type": "code",
   "execution_count": 10,
   "metadata": {},
   "outputs": [
    {
     "data": {
      "text/plain": [
       "array(['English', 'Spanish', 'French', 'Japanese', 'Portuguese (Brazil)'],\n",
       "      dtype=object)"
      ]
     },
     "execution_count": 10,
     "metadata": {},
     "output_type": "execute_result"
    }
   ],
   "source": [
    "df['Taught Language'] = df['Taught Language'].str.replace('Taught in ', '', regex=False)\n",
    "df['Taught Language'].unique()"
   ]
  },
  {
   "cell_type": "code",
   "execution_count": 11,
   "metadata": {},
   "outputs": [
    {
     "data": {
      "text/plain": [
       "array(['11', '21', '22', '24', '25', nan, '23', '20', '13', '7', '3', '4',\n",
       "       '9'], dtype=object)"
      ]
     },
     "execution_count": 11,
     "metadata": {},
     "output_type": "execute_result"
    }
   ],
   "source": [
    "df['Languages Available'] = df['Languages Available'].str.extract('(\\d+)')\n",
    "df['Languages Available'].unique()"
   ]
  },
  {
   "cell_type": "code",
   "execution_count": 12,
   "metadata": {},
   "outputs": [],
   "source": [
    "df['Languages Available'] = df['Languages Available'].fillna(0).astype(int)"
   ]
  },
  {
   "cell_type": "markdown",
   "metadata": {},
   "source": [
    "### Enroll Information"
   ]
  },
  {
   "cell_type": "code",
   "execution_count": 13,
   "metadata": {},
   "outputs": [
    {
     "data": {
      "text/plain": [
       "array(['2,468,706', '759,433', '1,807,675', '831,347', '1,695,991',\n",
       "       '1,105,689', '533,425', '889,704', '897,465', '657,138', '322,536',\n",
       "       '2,331', '137,573', '42,540', '187,931', nan, '145,507', '13,088',\n",
       "       '220,840', '82,273', '2,149,345', '1,531,067', '2,929,734',\n",
       "       '55,846', '21,150', '101,323', '268,190', '993,872', '92,413',\n",
       "       '9,664', '330,579', '67,388', '798,487', '742,554', '49,272',\n",
       "       '15,151', '35,854', '15,887', '434,240', '20,760', '6,629',\n",
       "       '73,734', '14,554', '1,122,158', '46,082', '11,733', '1,714,797',\n",
       "       '14,517', '321,518', '33,628', '20,077', '1,897,037', '5,187',\n",
       "       '188,623', '1,585', '26,348', '22,031', '37,258', '3,421',\n",
       "       '11,966', '93,154', '20,395', '92,794', '410,719', '2,071,773',\n",
       "       '791,550', '26,204', '1,157,517', '59,781', '10,859', '424,015',\n",
       "       '28,540', '6,659', '60,370', '1,364,559', '109,465', '6,489',\n",
       "       '23,933', '5,091', '5,592', '612,144', '3,240', '5,894', '45,764',\n",
       "       '4,146', '51,341', '5,896', '2,200', '3,446', '2,988', '2,147',\n",
       "       '2,851', '4,985', '1,952', '2,950', '1,548', '3,805', '144,933',\n",
       "       '210,785', '136,662', '129,460', '73,009', '71,223', '21,953',\n",
       "       '192,690', '219,753', '307,425', '312,129', '16,635', '5,386',\n",
       "       '31,525', '9,553', '3,554', '162,876', '42,838', '96,851',\n",
       "       '60,575', '12,350', '839,437', '855,394', '38,314', '1,374,794',\n",
       "       '74,527', '350,183', '515,070', '346,953', '49,867', '73,766',\n",
       "       '85,637', '62,993', '69,558', '15,929', '564,420', '654,408',\n",
       "       '48,526', '9,892', '1,412,128', '8,044', '20,551', '5,398',\n",
       "       '256,715', '19,659', '72,487', '16,022', '119,326', '720,137',\n",
       "       '541,265', '550,288', '522,072', '109,405', '34,062', '2,016',\n",
       "       '22,891', '187,755', '22,700', '7,559', '12,584', '56,924',\n",
       "       '56,980', '26,940', '197,433', '416,146', '37,838', '395,558',\n",
       "       '4,433', '268,266', '84,831', '33,930', '9,978', '26,915',\n",
       "       '11,026', '3,027', '19,357', '116,144', '15,830', '626,704',\n",
       "       '42,452', '228,310', '462,289', '534,866', '52,018', '63,223',\n",
       "       '19,220', '50,025', '236,015', '16,485', '7,331', '27,489',\n",
       "       '65,740', '4,793,429', '38,857', '350,718', '208,363', '40,132',\n",
       "       '35,071', '221,297', '544,365', '137,674', '41,332', '34,140',\n",
       "       '232,337', '21,226', '621,308', '80,119', '27,098', '134,458',\n",
       "       '21,489', '121,153', '41,697', '126,807', '3,885', '7,543',\n",
       "       '47,260', '276,847', '26,202', '208,339', '221,033', '15,807',\n",
       "       '587,576', '1,165,455', '582,397', '561,797', '187,797', '2,796',\n",
       "       '28,661', '54,866', '61,236', '350,818', '3,208,300', '6,257',\n",
       "       '34,792', '30,513', '40,960', '1,034,487', '8,277', '185,812',\n",
       "       '202,144', '44,078', '2,874', '2,587,981', '1,958', '31,490',\n",
       "       '39,947', '3,190', '952,745', '528,420', '1,616', '56,049',\n",
       "       '347,718', '69,329', '98,523', '32,372', '477,299', '493,784',\n",
       "       '120,719', '18,227', '21,032', '287,310', '329,969', '194,121',\n",
       "       '1,600,663', '3,916,776', '10,745', '13,519', '58,414', '73,102',\n",
       "       '245,497', '35,425', '341,636', '180,173', '176,662', '524,617',\n",
       "       '211,367', '169,253', '35,079', '31,996', '510,815', '405,522',\n",
       "       '62,326', '366,960', '480,152', '245,783', '97,313', '109,992',\n",
       "       '461,278', '9,582', '9,353', '106,275', '196,888', '264,147',\n",
       "       '424,858', '12,460', '237,666', '431,070', '36,875', '23,879',\n",
       "       '6,399', '128,203', '9,764', '94,762', '32,248', '193,452',\n",
       "       '10,582', '133,644', '16,339', '20,133', '160,538', '193,780',\n",
       "       '550,799', '409,161', '59,414', '9,268', '72,724', '623,059',\n",
       "       '41,665', '5,654', '634,556', '427,016', '10,154', '10,225',\n",
       "       '76,489', '32,081', '541,478', '363,755', '129,674', '49,170',\n",
       "       '92,259', '252,952', '4,183', '69,530', '2,676', '336,628',\n",
       "       '221,890', '24,538', '122,434', '97,440', '55,172', '125,034',\n",
       "       '16,033', '3,445', '103,072', '192,441', '6,447', '147,894',\n",
       "       '7,411', '12,654', '1,070,504', '5,341', '181,418', '102,334',\n",
       "       '420,112', '251,695', '153,431', '33,617', '2,247', '8,726',\n",
       "       '7,100', '547,467', '5,664', '24,997', '91,436', '319,561',\n",
       "       '155,047', '1,759', '163,345', '359,019', '56,643', '2,207',\n",
       "       '7,326', '36,814', '4,455', '119,578', '92,890', '6,647', '24,041',\n",
       "       '621,733', '24,368', '2,330', '18,715', '84,967', '4,868', '2,374',\n",
       "       '214,514', '292,408', '1,604,304', '80,456', '23,962', '8,345',\n",
       "       '126,564', '27,382', '306,947', '157,130', '234,101', '20,497',\n",
       "       '389,896', '1,077,556', '24,332', '29,440', '21,776', '116,771',\n",
       "       '5,684', '85,207', '56,945', '232,054', '47,124', '241,642',\n",
       "       '5,297', '107,895', '41,429', '13,809', '12,297', '173,977',\n",
       "       '107,256', '220,562', '15,092', '295,917', '242,314', '82,693',\n",
       "       '149,734', '517,292', '151,710', '20,765', '391,037', '232,370',\n",
       "       '502,872', '88,418', '386,080', '183,177', '73,763', '633,858',\n",
       "       '62,735', '120,968', '22,525', '147,243', '52,103', '10,909',\n",
       "       '16,492', '66,998', '319,751', '38,996', '4,298', '212,837',\n",
       "       '83,655', '270,493', '21,198', '9,006', '132,159', '49,367',\n",
       "       '32,504', '58,492', '26,429', '671,583', '182,525', '17,975',\n",
       "       '180,554', '176,605', '330,676', '5,277', '19,126', '145,540',\n",
       "       '41,938', '131,423', '15,576', '364,330', '3,485', '512,675',\n",
       "       '953,111', '11,010', '135,244', '26,979', '19,235', '16,948',\n",
       "       '54,483', '26,829', '151,637', '488,995', '72,712', '10,215',\n",
       "       '19,748', '38,963', '90,721', '16,687', '162,132', '72,877',\n",
       "       '16,861', '161,554', '24,423', '113,181', '75,683', '5,056',\n",
       "       '65,454', '38,047', '83,539', '31,716', '36,859', '71,243',\n",
       "       '70,177', '53,068', '65,381', '28,972', '24,098', '39,415',\n",
       "       '61,581', '501,716', '314,871', '50,373', '4,145', '239,588',\n",
       "       '58,266', '22,238', '180,040', '48,668', '107,347', '341,301',\n",
       "       '79,026', '2,499', '11,533', '22,208', '71,824', '152,340',\n",
       "       '16,124', '496,804', '208,225', '8,483', '17,717', '196,318',\n",
       "       '452,202', '13,885', '62,102', '5,368', '111,127', '30,307',\n",
       "       '641,186', '268,804', '45,742', '1,708', '3,194', '15,816',\n",
       "       '194,619', '2,957', '89,210', '486,874', '22,642', '42,306',\n",
       "       '507,467', '61,039', '65,587', '120,113', '45,421', '292,022',\n",
       "       '1,699', '66,663', '42,057', '44,072', '65,179', '175,413',\n",
       "       '58,142', '63,040', '147,915', '12,671', '27,570', '4,209',\n",
       "       '16,287', '35,313', '123,811', '808,844', '976,967', '76,361',\n",
       "       '71,283', '60,421', '358,639', '135,472', '399,844', '51,721',\n",
       "       '36,670', '27,434', '1,638', '2,426', '75,989', '199,692', '5,142',\n",
       "       '15,069', '161,075', '210,185', '57,345', '31,656', '12,730',\n",
       "       '4,486', '56,385', '25,754', '100,611', '2,626', '10,713',\n",
       "       '77,578', '26,675', '150,632', '122,624', '311,871', '2,665',\n",
       "       '31,433', '7,860', '92,036', '2,794', '30,347', '754,886',\n",
       "       '28,367', '60,224', '12,755', '8,824', '113,950', '1,369,055',\n",
       "       '288,850', '45,592', '60,637', '122,692', '120,252', '12,367',\n",
       "       '21,550', '14,121', '174,727', '6,744', '175,714', '99,568',\n",
       "       '77,189', '192,082', '99,561', '57,049', '260,058', '25,511',\n",
       "       '52,086', '98,120', '230,353', '103,617', '165,738', '11,948',\n",
       "       '33,484', '10,554', '12,812', '691,674', '138,934', '16,529',\n",
       "       '20,438', '152,790', '62,680', '26,354', '25,687', '401,220',\n",
       "       '34,235', '19,739', '244,929', '398,392', '47,969', '124,862',\n",
       "       '46,654', '81,737', '154,598', '63,143', '10,865', '66,788',\n",
       "       '147,922', '571,991', '93,491', '139,479', '83,459', '152,047',\n",
       "       '12,573', '88,374', '8,229', '66,871', '251,192', '37,557',\n",
       "       '477,980', '214,448', '41,880', '25,296', '49,553', '5,008',\n",
       "       '49,735', '161,842', '459,264', '14,634', '163,577', '49,286',\n",
       "       '497,327', '76,899', '14,608', '37,315', '57,346', '12,790',\n",
       "       '2,382', '244,994', '65,892', '86,228', '7,456', '7,711',\n",
       "       '160,785', '31,161', '14,164', '57,281', '5,448', '119,912',\n",
       "       '142,080', '1,837', '110,028', '105,098', '36,597', '27,007',\n",
       "       '44,892', '247,062', '203,520', '72,331', '317,533', '112,121',\n",
       "       '52,387', '7,994', '40,523', '1,511', '64,776', '7,595', '74,912',\n",
       "       '2,161', '4,407', '7,630', '5,773', '41,194', '66,391', '98,461',\n",
       "       '81,540', '60,810', '39,606', '4,938', '8,458', '74,576', '26,646',\n",
       "       '193,794', '298,420', '50,492', '13,557', '6,221', '18,522',\n",
       "       '82,497', '683,224', '58,504', '22,591', '159,265', '365,109',\n",
       "       '165,837', '2,579', '29,417', '4,317', '122,459', '142,861',\n",
       "       '87,026', '17,374', '4,160', '66,010', '932,067', '41,335',\n",
       "       '25,453', '11,393', '204,403', '2,785', '9,733', '62,072', '9,470',\n",
       "       '60,818', '45,193', '223,437', '26,571', '30,706', '108,058',\n",
       "       '47,499', '38,054', '16,267', '24,525', '24,506', '44,168',\n",
       "       '8,728', '3,686', '36,704', '35,258', '17,881', '73,617', '62,224',\n",
       "       '73,248', '93,494', '29,139', '1,531', '84,064', '2,682', '15,364',\n",
       "       '9,758', '24,304', '124,003', '56,044', '41,306', '16,468',\n",
       "       '1,974', '55,024', '146,347', '124,762', '158,285', '445,538',\n",
       "       '105,751', '79,053', '22,854', '7,403', '12,461', '3,931',\n",
       "       '35,440', '44,826', '315,912', '5,830', '372,962', '1,747',\n",
       "       '15,044', '51,981', '4,707', '82,710', '21,907', '23,888',\n",
       "       '293,450', '13,819', '100,577', '62,587', '51,948', '2,603',\n",
       "       '39,337', '21,933', '16,282', '28,642', '146,035', '167,628',\n",
       "       '35,474', '16,812', '14,198', '2,293', '98,276', '5,184', '7,701',\n",
       "       '38,487', '37,763', '126,330', '15,080', '21,731', '3,945',\n",
       "       '36,849', '8,030', '44,655', '94,680', '34,864', '19,104', '4,888',\n",
       "       '143,523', '125,228', '70,614', '326,165', '187,257', '1,171,817',\n",
       "       '5,941', '9,731', '18,832', '67,944', '6,854', '19,540', '77,115',\n",
       "       '6,300', '185,225', '3,646', '460,689', '82,471', '81,025',\n",
       "       '28,169', '360,553', '4,774', '5,182', '247,826', '71,755',\n",
       "       '80,029', '49,781', '6,060', '22,058', '82,141', '78,192',\n",
       "       '22,326', '8,813', '14,703', '6,188', '498,629', '72,189',\n",
       "       '34,621', '5,111', '1,940', '2,360', '358,661', '79,061', '49,807',\n",
       "       '79,437', '2,693', '30,824', '170,508', '2,109', '36,702',\n",
       "       '10,077', '4,124', '188,459', '20,733', '42,793', '148,183',\n",
       "       '110,643', '14,289', '6,592', '36,560', '8,259', '74,988', '2,675',\n",
       "       '9,344', '188,894', '139,725', '160,608', '24,385', '51,165',\n",
       "       '2,371', '49,662', '7,694', '18,839', '40,289', '15,444', '2,370',\n",
       "       '117,731', '8,799', '47,515', '10,417', '181,183', '173,716',\n",
       "       '20,369', '6,639', '211,384', '54,297', '205,130', '32,798',\n",
       "       '165,613', '30,144', '6,388', '122,196', '161,059', '128,593',\n",
       "       '6,634', '30,607', '19,966'], dtype=object)"
      ]
     },
     "execution_count": 13,
     "metadata": {},
     "output_type": "execute_result"
    }
   ],
   "source": [
    "df['Enroll Information'] = df['Enroll Information'].str.replace(' already enrolled', '', regex=False)\n",
    "df['Enroll Information'].unique()"
   ]
  },
  {
   "cell_type": "code",
   "execution_count": 14,
   "metadata": {},
   "outputs": [],
   "source": [
    "df['Enroll Information'] = df['Enroll Information'].str.replace(',', '')\n",
    "df['Enroll Information'] = df['Enroll Information'].fillna(0).astype(int)"
   ]
  },
  {
   "cell_type": "code",
   "execution_count": 15,
   "metadata": {},
   "outputs": [
    {
     "data": {
      "text/plain": [
       "0      2468706\n",
       "1       759433\n",
       "2      1807675\n",
       "3       831347\n",
       "4      1695991\n",
       "        ...   \n",
       "991     161059\n",
       "992     128593\n",
       "993       6634\n",
       "994      30607\n",
       "995      19966\n",
       "Name: Enroll Information, Length: 996, dtype: int32"
      ]
     },
     "execution_count": 15,
     "metadata": {},
     "output_type": "execute_result"
    }
   ],
   "source": [
    "df['Enroll Information']"
   ]
  },
  {
   "cell_type": "markdown",
   "metadata": {},
   "source": [
    "### Assignments Count"
   ]
  },
  {
   "cell_type": "code",
   "execution_count": 16,
   "metadata": {},
   "outputs": [
    {
     "data": {
      "text/plain": [
       "array(['Not available', '12 assignments', '4 quizzes, 11 assignments',\n",
       "       '4 assignments', '8 quizzes, 9 assignments',\n",
       "       '5 quizzes, 8 assignments', '9 assignments',\n",
       "       '7 quizzes, 9 assignments', '3 assignments',\n",
       "       '15 quizzes, 4 assignments', '15 quizzes', '25 assignments',\n",
       "       '7 quizzes, 10 assignments', '22 quizzes, 2 assignments',\n",
       "       '6 assignments', '11 quizzes, 6 assignments', '19 quizzes',\n",
       "       '14 assignments', '32 quizzes', '24 quizzes, 5 assignments',\n",
       "       '20 quizzes, 11 assignments', '11 quizzes, 9 assignments',\n",
       "       '18 quizzes, 3 assignments', '21 quizzes, 3 assignments',\n",
       "       '11 quizzes, 4 assignments', '16 quizzes, 5 assignments',\n",
       "       '13 assignments', '20 assignments', '10 quizzes, 17 assignments',\n",
       "       '30 quizzes', '23 assignments', '8 assignments',\n",
       "       '18 quizzes, 20 assignments', '26 quizzes',\n",
       "       '17 quizzes, 1 assignment', '37 quizzes, 1 assignment',\n",
       "       '11 assignments', '5 assignments', '12 quizzes, 12 assignments',\n",
       "       '18 assignments', '23 quizzes, 1 assignment',\n",
       "       '10 quizzes, 7 assignments', '24 assignments', '7 assignments',\n",
       "       '5 quizzes', '22 assignments', '52 assignments',\n",
       "       '5 quizzes, 1 assignment', '21 assignments',\n",
       "       '19 quizzes, 1 assignment', '10 quizzes, 3 assignments',\n",
       "       '16 quizzes, 1 assignment', '22 quizzes, 3 assignments',\n",
       "       '20 quizzes, 1 assignment', '10 assignments', '33 assignments',\n",
       "       '2 assignments', '17 quizzes, 2 assignments',\n",
       "       '29 quizzes, 3 assignments', '13 quizzes, 15 assignments',\n",
       "       '12 quizzes, 6 assignments', '15 assignments',\n",
       "       '9 quizzes, 1 assignment', '35 assignments', '26 assignments',\n",
       "       '39 assignments', '13 quizzes, 2 assignments', '20 quizzes',\n",
       "       '13 quizzes, 1 assignment', '30 assignments', '1 assignment',\n",
       "       '56 assignments', '15 quizzes, 8 assignments', '4 quizzes',\n",
       "       '17 assignments', '70 assignments', '29 assignments',\n",
       "       '16 quizzes, 3 assignments', '16 assignments',\n",
       "       '13 quizzes, 11 assignments', '1 quiz, 25 assignments',\n",
       "       '40 assignments', '19 assignments', '34 quizzes', '2 quizzes',\n",
       "       '3 quizzes, 26 assignments', '62 assignments',\n",
       "       '11 quizzes, 5 assignments', '2 quizzes, 8 assignments',\n",
       "       '27 quizzes', '28 assignments', '11 quizzes, 14 assignments',\n",
       "       '18 quizzes, 1 assignment', '5 quizzes, 19 assignments',\n",
       "       '8 quizzes', '31 quizzes, 3 assignments', '36 assignments',\n",
       "       '2 quizzes, 19 assignments', '5 quizzes, 7 assignments',\n",
       "       '27 assignments', '14 quizzes, 2 assignments',\n",
       "       '3 quizzes, 11 assignments', '45 assignments',\n",
       "       '1 quiz, 16 assignments', '22 quizzes', '44 assignments',\n",
       "       '43 assignments', '136 assignments', '59 assignments'],\n",
       "      dtype=object)"
      ]
     },
     "execution_count": 16,
     "metadata": {},
     "output_type": "execute_result"
    }
   ],
   "source": [
    "df['Assignments Count'].unique()"
   ]
  },
  {
   "cell_type": "code",
   "execution_count": 17,
   "metadata": {},
   "outputs": [],
   "source": [
    "df['Quizzes'] = df['Assignments Count'].str.extract(r'(\\d+)\\s*quizzes').fillna(0).astype(int)\n",
    "df['Assignments'] = df['Assignments Count'].str.extract(r'(\\d+)\\s*assignments').fillna(0).astype(int)\n",
    "df = df.drop(columns=['Assignments Count'])"
   ]
  },
  {
   "cell_type": "code",
   "execution_count": 18,
   "metadata": {},
   "outputs": [
    {
     "data": {
      "text/plain": [
       "array([ 0,  4,  8,  5,  7, 15, 22, 11, 19, 32, 24, 20, 18, 21, 16, 10, 30,\n",
       "       26, 17, 37, 12, 23, 29, 13,  9, 34,  2,  3, 27, 31, 14])"
      ]
     },
     "execution_count": 18,
     "metadata": {},
     "output_type": "execute_result"
    }
   ],
   "source": [
    "df['Quizzes'].unique()"
   ]
  },
  {
   "cell_type": "code",
   "execution_count": 19,
   "metadata": {},
   "outputs": [
    {
     "data": {
      "text/plain": [
       "array([  0,  12,  11,   4,   9,   8,   3,  25,  10,   2,   6,  14,   5,\n",
       "        13,  20,  17,  23,  18,   7,  24,  22,  52,  21,  33,  15,  35,\n",
       "        26,  39,  30,  56,  70,  29,  16,  40,  19,  62,  28,  36,  27,\n",
       "        45,  44,  43, 136,  59])"
      ]
     },
     "execution_count": 19,
     "metadata": {},
     "output_type": "execute_result"
    }
   ],
   "source": [
    "df['Assignments'].unique()"
   ]
  },
  {
   "cell_type": "markdown",
   "metadata": {},
   "source": [
    "### Rating"
   ]
  },
  {
   "cell_type": "code",
   "execution_count": 20,
   "metadata": {},
   "outputs": [
    {
     "data": {
      "text/plain": [
       "array([4.8, 4.9, 4.7, 4.6, 4.5, 4.1, 4.4, nan, 4. , 3.9, 4.2, 4.3, 5. ,\n",
       "       2.4, 2.8])"
      ]
     },
     "execution_count": 20,
     "metadata": {},
     "output_type": "execute_result"
    }
   ],
   "source": [
    "data['Rating'].unique()"
   ]
  },
  {
   "cell_type": "code",
   "execution_count": 21,
   "metadata": {},
   "outputs": [
    {
     "data": {
      "text/plain": [
       "Rating\n",
       "4.8    314\n",
       "4.7    295\n",
       "4.6    189\n",
       "4.9     66\n",
       "4.5     64\n",
       "4.4     29\n",
       "4.3     12\n",
       "4.2      8\n",
       "NaN      7\n",
       "3.9      5\n",
       "4.1      3\n",
       "4.0      1\n",
       "5.0      1\n",
       "2.4      1\n",
       "2.8      1\n",
       "Name: count, dtype: int64"
      ]
     },
     "execution_count": 21,
     "metadata": {},
     "output_type": "execute_result"
    }
   ],
   "source": [
    "data['Rating'].value_counts(dropna=False)"
   ]
  },
  {
   "cell_type": "code",
   "execution_count": 22,
   "metadata": {},
   "outputs": [],
   "source": [
    "data = data.dropna(subset=['Rating'])"
   ]
  },
  {
   "cell_type": "code",
   "execution_count": 23,
   "metadata": {},
   "outputs": [
    {
     "data": {
      "text/plain": [
       "dtype('float64')"
      ]
     },
     "execution_count": 23,
     "metadata": {},
     "output_type": "execute_result"
    }
   ],
   "source": [
    "data['Rating'].dtype"
   ]
  },
  {
   "cell_type": "markdown",
   "metadata": {},
   "source": [
    "Column Data Types\n",
    "\n",
    "Count Null Cells for Each Row\n",
    "\n",
    "Count Null Cells for Each Column"
   ]
  },
  {
   "cell_type": "code",
   "execution_count": 24,
   "metadata": {},
   "outputs": [
    {
     "name": "stdout",
     "output_type": "stream",
     "text": [
      "Title                                                    object\n",
      "Organization                                             object\n",
      "URL                                                      object\n",
      "Rating                                                  float64\n",
      "Languages Available                                       int32\n",
      "Enroll Information                                        int32\n",
      "Taught Language                                          object\n",
      "Difficulty                                               object\n",
      "Type                                                     object\n",
      "Duration                                                 object\n",
      "Data Science Skills Count                                 int64\n",
      "Engineering and Programming Skills Count                  int64\n",
      "Mathematical Theory and Problem Solving Skills Count      int64\n",
      "Skills Count                                              int64\n",
      "Quizzes                                                   int32\n",
      "Assignments                                               int32\n",
      "dtype: object\n"
     ]
    }
   ],
   "source": [
    "print(df.dtypes)"
   ]
  },
  {
   "cell_type": "code",
   "execution_count": 25,
   "metadata": {},
   "outputs": [
    {
     "name": "stdout",
     "output_type": "stream",
     "text": [
      "                                              Title  \\\n",
      "167                         AI Python for Beginners   \n",
      "275            Introduction to Financial Accounting   \n",
      "347                                 Microsoft Excel   \n",
      "635  Introduction to Public Relations and the Media   \n",
      "707                Introduction to Forensic Science   \n",
      "923                            Fractal Data Science   \n",
      "959       Personal Branding: Stand Out and Succeed    \n",
      "\n",
      "                                    Organization  \\\n",
      "167                              DeepLearning.AI   \n",
      "275                   University of Pennsylvania   \n",
      "347                                    Microsoft   \n",
      "635               University of Colorado Boulder   \n",
      "707  Nanyang Technological University, Singapore   \n",
      "923                            Fractal Analytics   \n",
      "959                       University of Michigan   \n",
      "\n",
      "                                                   URL  Rating  \\\n",
      "167  https://www.coursera.org/learn/ai-python-for-b...     NaN   \n",
      "275  https://www.coursera.org/learn/wharton-accounting     NaN   \n",
      "347  https://www.coursera.org/professional-certific...     NaN   \n",
      "635  https://www.coursera.org/specializations/intro...     NaN   \n",
      "707    https://www.coursera.org/learn/forensic-science     NaN   \n",
      "923  https://www.coursera.org/professional-certific...     NaN   \n",
      "959  https://www.coursera.org/learn/personal-brandi...     NaN   \n",
      "\n",
      "     Languages Available  Enroll Information Taught Language Difficulty  \\\n",
      "167                    0                4433         English   Beginner   \n",
      "275                   22              341636         English      Mixed   \n",
      "347                    0                2331         English   Beginner   \n",
      "635                   21               12755         English   Beginner   \n",
      "707                    0              161842         English      Mixed   \n",
      "923                   23                6060         English   Beginner   \n",
      "959                    0                8259         English   Beginner   \n",
      "\n",
      "                         Type      Duration  Data Science Skills Count  \\\n",
      "167                    Course   1 - 4 Weeks                          0   \n",
      "275                    Course   1 - 4 Weeks                          0   \n",
      "347  Professional Certificate  3 - 6 Months                          0   \n",
      "635            Specialization  3 - 6 Months                          0   \n",
      "707                    Course  1 - 3 Months                          0   \n",
      "923  Professional Certificate  3 - 6 Months                          0   \n",
      "959                    Course   1 - 4 Weeks                          1   \n",
      "\n",
      "     Engineering and Programming Skills Count  \\\n",
      "167                                         0   \n",
      "275                                         0   \n",
      "347                                         0   \n",
      "635                                         0   \n",
      "707                                         0   \n",
      "923                                         0   \n",
      "959                                         0   \n",
      "\n",
      "     Mathematical Theory and Problem Solving Skills Count  Skills Count  \\\n",
      "167                                                  0                1   \n",
      "275                                                  0                1   \n",
      "347                                                  0                1   \n",
      "635                                                  0                1   \n",
      "707                                                  0                1   \n",
      "923                                                  0                1   \n",
      "959                                                  0                3   \n",
      "\n",
      "     Quizzes  Assignments  \n",
      "167        0            4  \n",
      "275        0            6  \n",
      "347        0            0  \n",
      "635        0            0  \n",
      "707        0            3  \n",
      "923        0            0  \n",
      "959        0            4  \n"
     ]
    }
   ],
   "source": [
    "null_rows = df[df.isnull().any(axis=1)]\n",
    "print(null_rows)"
   ]
  },
  {
   "cell_type": "code",
   "execution_count": 26,
   "metadata": {},
   "outputs": [],
   "source": [
    "df = df.dropna()"
   ]
  },
  {
   "cell_type": "code",
   "execution_count": 28,
   "metadata": {},
   "outputs": [
    {
     "name": "stdout",
     "output_type": "stream",
     "text": [
      "Title                                                   0\n",
      "Organization                                            0\n",
      "URL                                                     0\n",
      "Rating                                                  0\n",
      "Languages Available                                     0\n",
      "Enroll Information                                      0\n",
      "Taught Language                                         0\n",
      "Difficulty                                              0\n",
      "Type                                                    0\n",
      "Duration                                                0\n",
      "Data Science Skills Count                               0\n",
      "Engineering and Programming Skills Count                0\n",
      "Mathematical Theory and Problem Solving Skills Count    0\n",
      "Skills Count                                            0\n",
      "Quizzes                                                 0\n",
      "Assignments                                             0\n",
      "dtype: int64\n"
     ]
    }
   ],
   "source": [
    "column_null_counts = df.isnull().sum()\n",
    "print(column_null_counts)"
   ]
  },
  {
   "cell_type": "code",
   "execution_count": 29,
   "metadata": {},
   "outputs": [],
   "source": [
    "df.to_csv('cleaned_data.csv', index=False, encoding='utf-8')"
   ]
  },
  {
   "cell_type": "code",
   "execution_count": null,
   "metadata": {},
   "outputs": [],
   "source": []
  }
 ],
 "metadata": {
  "kernelspec": {
   "display_name": "diploma",
   "language": "python",
   "name": "python3"
  },
  "language_info": {
   "codemirror_mode": {
    "name": "ipython",
    "version": 3
   },
   "file_extension": ".py",
   "mimetype": "text/x-python",
   "name": "python",
   "nbconvert_exporter": "python",
   "pygments_lexer": "ipython3",
   "version": "3.8.19"
  }
 },
 "nbformat": 4,
 "nbformat_minor": 2
}
